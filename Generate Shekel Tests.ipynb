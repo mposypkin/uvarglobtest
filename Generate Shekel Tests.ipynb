{
 "cells": [
  {
   "cell_type": "markdown",
   "id": "d22a91e8",
   "metadata": {},
   "source": [
    "# Shekel test problems generator\n",
    "\n",
    "Demonstrates how Shekel test problems for univariate global optimization can be generated. The description of Shekel tests cane be found in \n",
    "\n",
    "*Sergeyev, Y. D., Nasso, M. C., Mukhametzhanov, M. S., Kvasov, D. E. (2021).\n",
    "            Novel local tuning techniques for speeding up one-dimensional algorithms in expensive global optimization using Lipschitz derivatives.     Journal of Computational and Applied Mathematics, 383, 113134.*"
   ]
  },
  {
   "cell_type": "code",
   "execution_count": 1,
   "id": "c3dcdc76",
   "metadata": {},
   "outputs": [],
   "source": [
    "import random as rnd\n",
    "import shekgen as sh\n",
    "import pandas as pd"
   ]
  },
  {
   "cell_type": "markdown",
   "id": "ca93276a",
   "metadata": {},
   "source": [
    "Tune generator's parameters (refer to the original publication for explanation)"
   ]
  },
  {
   "cell_type": "code",
   "execution_count": 13,
   "id": "664aa0f8",
   "metadata": {},
   "outputs": [],
   "source": [
    "# Seeding\n",
    "rnd.seed(1)\n",
    "\n",
    "# Number of problems\n",
    "np = 10\n",
    "\n",
    "# Reverse Shekel (True) or normal Shekel (False) functions\n",
    "rshek = False\n",
    "\n",
    "# File name to write the results\n",
    "fname = \"/tmp/shek.csv\"\n",
    "\n"
   ]
  },
  {
   "cell_type": "markdown",
   "id": "50199bad",
   "metadata": {},
   "source": [
    "Generate tests"
   ]
  },
  {
   "cell_type": "code",
   "execution_count": 14,
   "id": "5be9f93c",
   "metadata": {},
   "outputs": [
    {
     "name": "stdout",
     "output_type": "stream",
     "text": [
      "Generating problem  shekel_0  ...  done.\n",
      "Generating problem  shekel_1  ...  done.\n",
      "Generating problem  shekel_2  ...  done.\n",
      "Generating problem  shekel_3  ...  done.\n",
      "Generating problem  shekel_4  ...  done.\n",
      "Generating problem  shekel_5  ...  done.\n",
      "Generating problem  shekel_6  ...  done.\n",
      "Generating problem  shekel_7  ...  done.\n",
      "Generating problem  shekel_8  ...  done.\n",
      "Generating problem  shekel_9  ...  done.\n",
      "Skipped the test\n",
      "Generating problem  shekel_9  ...  done.\n",
      "Generated tests are written to  /tmp/shek.csv\n"
     ]
    }
   ],
   "source": [
    "df = None\n",
    "eps = 0.1\n",
    "sk_gen = sh.ShekelGen()\n",
    "i = 0\n",
    "while True:\n",
    "    dfn = sk_gen.gen_one_problem(i, rshek)\n",
    "    min_x = dfn.loc[0, 'min_x']\n",
    "    a = dfn.loc[0, 'a']\n",
    "    b = dfn.loc[0, 'b']\n",
    "    # Avoid minimum points at the interval ends\n",
    "    if min_x - a > eps and b - min_x > eps:\n",
    "        if df is None:\n",
    "            df = dfn\n",
    "        else:\n",
    "            df = pd.concat([df, dfn])\n",
    "        i = i + 1\n",
    "        if i >= np:\n",
    "            break\n",
    "    else:\n",
    "        print('Skipped the test')\n",
    "df.to_csv(fname, index = False)\n",
    "print(\"Generated tests are written to \", fname)"
   ]
  },
  {
   "cell_type": "code",
   "execution_count": null,
   "id": "4f8b54c4",
   "metadata": {},
   "outputs": [],
   "source": []
  }
 ],
 "metadata": {
  "kernelspec": {
   "display_name": "Python 3 (ipykernel)",
   "language": "python",
   "name": "python3"
  },
  "language_info": {
   "codemirror_mode": {
    "name": "ipython",
    "version": 3
   },
   "file_extension": ".py",
   "mimetype": "text/x-python",
   "name": "python",
   "nbconvert_exporter": "python",
   "pygments_lexer": "ipython3",
   "version": "3.8.10"
  }
 },
 "nbformat": 4,
 "nbformat_minor": 5
}
